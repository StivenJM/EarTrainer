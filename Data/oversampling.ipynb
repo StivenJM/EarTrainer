{
 "cells": [
  {
   "cell_type": "markdown",
   "id": "3f8c1c7a",
   "metadata": {},
   "source": [
    "# Oversampling simple duplicando filas de la clase \"experto\"\n",
    "\n",
    "En esta celda realizamos oversampling manual para balancear el dataset, específicamente para la clase minoritaria `\"experto\"`. \n",
    "\n",
    "**Pasos:**\n",
    "- Se carga el dataset original `musical_skills_dataset.csv`.\n",
    "- Se separan las filas con `skill_level` igual a `\"experto\"`.\n",
    "- Se calcula cuál es la clase mayoritaria entre `\"intermedio\"` y `\"principiante\"`.\n",
    "- Se duplican aleatoriamente filas de `\"experto\"` hasta igualar la cantidad de la clase mayoritaria.\n",
    "- Se concatenan los datos y se guarda el nuevo dataset balanceado en `musical_skills_oversampled_simple.csv`.\n",
    "\n",
    "Este método es sencillo y rápido, pero puede causar sobreajuste porque duplica datos existentes sin crear nuevos ejemplos."
   ]
  },
  {
   "cell_type": "code",
   "execution_count": 1,
   "id": "f573f346",
   "metadata": {},
   "outputs": [
    {
     "name": "stdout",
     "output_type": "stream",
     "text": [
      "Original experto: 151, Upsampled experto: 452\n",
      "Archivo guardado como musical_skills_oversampled_simple.csv\n"
     ]
    }
   ],
   "source": [
    "# Celda 1: Oversampling simple duplicando filas \"experto\"\n",
    "import pandas as pd\n",
    "from sklearn.utils import resample\n",
    "\n",
    "# Cargar dataset\n",
    "df = pd.read_csv('musical_skills_dataset.csv')\n",
    "\n",
    "# Separar clases\n",
    "df_experto = df[df['skill_level'] == 'experto']\n",
    "df_others = df[df['skill_level'] != 'experto']\n",
    "\n",
    "# Cantidades actuales\n",
    "n_intermedio = len(df[df['skill_level'] == 'intermedio'])\n",
    "n_principiante = len(df[df['skill_level'] == 'principiante'])\n",
    "n_experto = len(df_experto)\n",
    "\n",
    "# Queremos que experto tenga la misma cantidad que la clase más grande\n",
    "max_count = max(n_intermedio, n_principiante)\n",
    "\n",
    "# Upsample experto duplicando aleatoriamente\n",
    "df_experto_upsampled = resample(df_experto, \n",
    "                                replace=True,     # muestra con reemplazo\n",
    "                                n_samples=max_count,    # igualar tamaño a la clase mayor\n",
    "                                random_state=42)\n",
    "\n",
    "# Concatenar el dataset balanceado\n",
    "df_balanced = pd.concat([df_others, df_experto_upsampled])\n",
    "\n",
    "# Guardar en un nuevo archivo CSV\n",
    "df_balanced.to_csv('musical_skills_oversampled_simple.csv', index=False)\n",
    "\n",
    "print(f\"Original experto: {n_experto}, Upsampled experto: {len(df_experto_upsampled)}\")\n",
    "print(\"Archivo guardado como musical_skills_oversampled_simple.csv\")"
   ]
  },
  {
   "cell_type": "markdown",
   "id": "d97b0106",
   "metadata": {},
   "source": [
    "# Oversampling con SMOTE (Synthetic Minority Over-sampling Technique)\n",
    "\n",
    "Esta celda aplica SMOTE, una técnica de oversampling que genera nuevos ejemplos sintéticos para la clase minoritaria basándose en interpolación de sus vecinos más cercanos.\n",
    "\n",
    "**Pasos:**\n",
    "- Cargar el dataset original.\n",
    "- Codificar la variable categórica `skill_level` en números para que SMOTE pueda procesarla.\n",
    "- Separar las características (`X`) y la variable objetivo codificada (`y`).\n",
    "- Aplicar SMOTE para balancear las clases automáticamente.\n",
    "- Reconstruir un DataFrame con los datos balanceados.\n",
    "- Decodificar la variable objetivo para regresar a sus etiquetas originales.\n",
    "- Guardar el dataset balanceado en `musical_skills_oversampled_smote.csv`.\n",
    "\n",
    "SMOTE suele ayudar a evitar el sobreajuste que ocurre con la simple duplicación, ya que genera datos sintéticos más variados."
   ]
  },
  {
   "cell_type": "code",
   "execution_count": 1,
   "id": "610d567f",
   "metadata": {},
   "outputs": [
    {
     "name": "stdout",
     "output_type": "stream",
     "text": [
      "Archivo guardado como musical_skills_oversampled_smote.csv\n"
     ]
    }
   ],
   "source": [
    "# Celda 2: Oversampling con SMOTE\n",
    "import pandas as pd\n",
    "from imblearn.over_sampling import SMOTE\n",
    "\n",
    "# Cargar dataset\n",
    "df = pd.read_csv('musical_skills_dataset.csv')\n",
    "\n",
    "# Convertir variable categórica 'skill_level' a números\n",
    "from sklearn.preprocessing import LabelEncoder\n",
    "le = LabelEncoder()\n",
    "df['skill_level_encoded'] = le.fit_transform(df['skill_level'])\n",
    "\n",
    "# Separar características y target\n",
    "X = df.drop(columns=['skill_level', 'skill_level_encoded'])\n",
    "y = df['skill_level_encoded']\n",
    "\n",
    "# Aplicar SMOTE para balancear la clase minoritaria\n",
    "smote = SMOTE(random_state=42)\n",
    "X_res, y_res = smote.fit_resample(X, y)\n",
    "\n",
    "# Reconstruir DataFrame con los datos resampleados\n",
    "df_resampled = X_res.copy()\n",
    "df_resampled['skill_level_encoded'] = y_res\n",
    "\n",
    "# Decodificar skill_level\n",
    "df_resampled['skill_level'] = le.inverse_transform(df_resampled['skill_level_encoded'].astype(int))\n",
    "\n",
    "# Reordenar columnas para que coincidan con original\n",
    "cols = ['skill_level'] + [c for c in df_resampled.columns if c not in ['skill_level', 'skill_level_encoded']] \n",
    "df_resampled = df_resampled[cols]\n",
    "\n",
    "# Guardar a CSV\n",
    "df_resampled.to_csv('musical_skills_oversampled_smote.csv', index=False)\n",
    "\n",
    "print(\"Archivo guardado como musical_skills_oversampled_smote.csv\")"
   ]
  }
 ],
 "metadata": {
  "kernelspec": {
   "display_name": ".venv",
   "language": "python",
   "name": "python3"
  },
  "language_info": {
   "codemirror_mode": {
    "name": "ipython",
    "version": 3
   },
   "file_extension": ".py",
   "mimetype": "text/x-python",
   "name": "python",
   "nbconvert_exporter": "python",
   "pygments_lexer": "ipython3",
   "version": "3.13.5"
  }
 },
 "nbformat": 4,
 "nbformat_minor": 5
}
